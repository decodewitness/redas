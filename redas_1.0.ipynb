{
 "cells": [
  {
   "cell_type": "markdown",
   "id": "6cd1d704",
   "metadata": {},
   "source": [
    "# <font color=\"green\">REDAS &lt;1.0&gt;\n",
    "<br>\n",
    "Date: 03/09/2022"
   ]
  },
  {
   "cell_type": "markdown",
   "id": "d98c4eae",
   "metadata": {},
   "source": [
    "## <font color=\"blue\"> LIBRARIES\n",
    "    \n",
    "(Comment these out these pip libraries after installing on your local machine)"
   ]
  },
  {
   "cell_type": "code",
   "execution_count": null,
   "id": "9706a79d",
   "metadata": {},
   "outputs": [],
   "source": [
    "### these here are necessary libraries ###\n",
    "!pip install requests\n",
    "!pip install beautifulsoup4\n",
    "!pip install pyttsx3\n",
    "!pip install pywhatkit\n",
    "###\n",
    "\n",
    "### this is for windows ###\n",
    "!python -m pip install pyaudio\n",
    "###\n",
    "\n",
    "### this is for linux ###\n",
    "# !pip install PyAudio # if error lower version python <=3.6\n",
    "###\n",
    "\n",
    "### additional (currently unsupported) libraries ###\n",
    "# !pip install SpeechRecognition\n",
    "# !pip install wikipedia\n",
    "# !pip install pyjokes\n",
    "###"
   ]
  },
  {
   "cell_type": "markdown",
   "id": "e7530df0",
   "metadata": {},
   "source": [
    "<br>\n",
    "(Now Run The Next Cells, Or First Install Your New Libraries)\n",
    "<br>"
   ]
  },
  {
   "cell_type": "markdown",
   "id": "48d2e526",
   "metadata": {},
   "source": [
    "## <font color=\"blue\"> IMPORTS"
   ]
  },
  {
   "cell_type": "code",
   "execution_count": null,
   "id": "fb030048",
   "metadata": {},
   "outputs": [],
   "source": [
    "import bs4 as bs\n",
    "from bs4 import BeautifulSoup\n",
    "import requests\n",
    "\n",
    "import urllib.request\n",
    "import re\n",
    "import nltk\n",
    "nltk.download('punkt')\n",
    "import sys\n",
    "import csv\n",
    "\n",
    "import heapq\n",
    "\n",
    "import pyttsx3\n",
    "import pywhatkit\n",
    "import datetime\n",
    "import wikipedia\n",
    "\n",
    "# import speech_recognition as sr\n",
    "# import pyjokes"
   ]
  },
  {
   "cell_type": "markdown",
   "id": "53458d83",
   "metadata": {},
   "source": [
    "## <font color=\"blue\">AUDIO"
   ]
  },
  {
   "cell_type": "code",
   "execution_count": null,
   "id": "79f8a600",
   "metadata": {},
   "outputs": [],
   "source": [
    "engine = pyttsx3.init()\n",
    "voices = engine.getProperty('voices')\n",
    "#listener = sr.Recognizer()\n",
    "engine.setProperty('voice', voices[1].id)\n",
    "engine.setProperty('rate', 121)\n",
    "rate = engine.getProperty('rate')\n",
    "print(rate)"
   ]
  },
  {
   "cell_type": "markdown",
   "id": "b1bf7eb1",
   "metadata": {},
   "source": [
    "## <font color=\"blue\">FUNCTIONS"
   ]
  },
  {
   "cell_type": "code",
   "execution_count": null,
   "id": "77d67475",
   "metadata": {},
   "outputs": [],
   "source": [
    "def talk(text):    \n",
    "    # rate = engine.getProperty('rate')\n",
    "    engine.setProperty('rate', 121)\n",
    "    engine.say(text)\n",
    "    engine.runAndWait()\n",
    "    \n",
    "def splash():\n",
    "    # Flash Message\n",
    "    redas = []\n",
    "    redas.append(\"PRIVEDAS, your lexicon.\")\n",
    "    # redas.append(\"Please help support this model, by visiting our website combine research dot com\")\n",
    "    for i in redas:\n",
    "        talk(i)\n",
    "\n",
    "def run_model(t):    \n",
    "    # Assign URL\n",
    "    url = t\n",
    "\n",
    "    #  Open URL Scrape Data\n",
    "    scraped_data = urllib.request.urlopen(url)\n",
    "    article = scraped_data.read()\n",
    "    parsed_article = bs.BeautifulSoup(article,'lxml')\n",
    "    paragraphs = parsed_article.find_all('p')\n",
    "\n",
    "    # Get Title of Article\n",
    "    response = requests.get(url=url)\n",
    "    soup = BeautifulSoup(response.content, 'html.parser')\n",
    "    new_title = soup.find(id=\"firstHeading\")\n",
    "\n",
    "    # Fox Article\n",
    "    article_text = \"\"\n",
    "    for p in paragraphs:\n",
    "        article_text += p.text\n",
    "\n",
    "    # Cleaning Data\n",
    "    # Removing Square Brackets and Extra Spaces\n",
    "    article_text = re.sub(r'\\[[0-9]*\\]', ' ', article_text)\n",
    "    # Any whitespace character \\s+\n",
    "    article_text = re.sub(r'\\s+', ' ', article_text)\n",
    "    # Removing special characters and digits\n",
    "    formatted_article_text = re.sub('[^a-zA-Z]', ' ', article_text)\n",
    "    # Any whitespace character \\s+\n",
    "    formatted_article_text = re.sub(r'\\s+', ' ', formatted_article_text)\n",
    "    # Clean the title\n",
    "    new_title = re.sub(r'<[^>]*>', '', str(new_title))\n",
    "    title = \"Your title is: \\\"\" + new_title + \"\\\"\"\n",
    "    \n",
    "    #Convert paragraphs to sentences\n",
    "    sentence_list = nltk.sent_tokenize(article_text)\n",
    "    \n",
    "    nltk.download('stopwords')\n",
    "    stopwords = nltk.corpus.stopwords.words('english')\n",
    "    \n",
    "    # Word Frequency\n",
    "    word_frequencies = {}\n",
    "    for word in nltk.word_tokenize(formatted_article_text):\n",
    "        if word not in stopwords:\n",
    "            if word not in word_frequencies.keys():\n",
    "                word_frequencies[word] = 1\n",
    "            else:\n",
    "                word_frequencies[word] += 1\n",
    "\n",
    "    maximum_frequncy = max(word_frequencies.values())\n",
    "\n",
    "    for word in word_frequencies.keys():\n",
    "        word_frequencies[word] = (word_frequencies[word]/maximum_frequncy)\n",
    "        \n",
    "    sentence_scores = {}\n",
    "    for sent in sentence_list:\n",
    "        for word in nltk.word_tokenize(sent.lower()):\n",
    "            if word in word_frequencies.keys():\n",
    "                if len(sent.split(' ')) < 30:\n",
    "                    if sent not in sentence_scores.keys():\n",
    "                        sentence_scores[sent] = word_frequencies[word]\n",
    "                    else:\n",
    "                        sentence_scores[sent] += word_frequencies[word]\n",
    "\n",
    "    summary_sentences = heapq.nlargest(3, sentence_scores, key=sentence_scores.get)\n",
    "    summary = ' '.join(summary_sentences)\n",
    "    \n",
    "    splash()\n",
    "    \n",
    "    return title, summary, article_text, formatted_article_text"
   ]
  },
  {
   "cell_type": "markdown",
   "id": "2cdff1ab",
   "metadata": {},
   "source": [
    "## <font color=\"blue\">CATALOGUE \n",
    "\n",
    "    CHOOSE FROM CATALOGUE OR ADD NEW TO CATALOGUE\n",
    "(Catalogue):"
   ]
  },
  {
   "cell_type": "code",
   "execution_count": null,
   "id": "9354c464",
   "metadata": {},
   "outputs": [],
   "source": [
    "### RANDOM WIKI PAGE ###\n",
    "random = 'https://en.wikipedia.org/wiki/Special:Random'\n",
    "\n",
    "### AI ###\n",
    "artificial_gen_intel = 'https://en.wikipedia.org/wiki/Artificial_general_intelligence'\n",
    "machine_learning = 'https://en.wikipedia.org/wiki/Machine_learning'\n",
    "\n",
    "### BLOCKCHAIN ###\n",
    "web3 = 'https://en.wikipedia.org/wiki/Web3'\n",
    "blockchain = 'https://en.wikipedia.org/wiki/Blockchain'\n",
    "smart_contract = 'https://en.wikipedia.org/wiki/Smart_contract'\n",
    "\n",
    "### IT ###\n",
    "computational_science = 'https://en.wikipedia.org/wiki/Computational_science'\n",
    "\n",
    "### TECHNOLOGY ###\n",
    "technology = 'https://en.wikipedia.org/wiki/Technology'"
   ]
  },
  {
   "cell_type": "markdown",
   "id": "cf53bcc7",
   "metadata": {},
   "source": [
    "## WIKIPEDIA LINKS IN A NAMED VARIABLE:\n",
    "\n",
    "###############################################################################\n",
    "<font color=\"red\">(Use the variable names containing the link in the Input box you get when you run the model!!!)\n",
    "###############################################################################"
   ]
  },
  {
   "cell_type": "markdown",
   "id": "8524b280",
   "metadata": {},
   "source": [
    "### <font color=\"aubergine\">* RUN THIS NEXT CELL TO RUN YOUR MODEL (PRIVESDAS 2.0) *\n",
    "<br>"
   ]
  },
  {
   "cell_type": "code",
   "execution_count": null,
   "id": "6ffd354b",
   "metadata": {},
   "outputs": [],
   "source": [
    "url = input(\"Your article from your catalogue?\")\n",
    "title, summary, formatted_article_text, article_text = run_model(url)"
   ]
  },
  {
   "cell_type": "markdown",
   "id": "f6d9a2be",
   "metadata": {},
   "source": [
    "## <font color=\"red\">&lt;YOUR ARTICLE TITLE&gt;"
   ]
  },
  {
   "cell_type": "code",
   "execution_count": null,
   "id": "9438dd1c",
   "metadata": {},
   "outputs": [],
   "source": [
    "print(title)\n",
    "talk(title)"
   ]
  },
  {
   "cell_type": "markdown",
   "id": "75c9d8df",
   "metadata": {},
   "source": [
    "## <font color=\"green\">DATA SUMMARY AND TEXT"
   ]
  },
  {
   "cell_type": "code",
   "execution_count": null,
   "id": "753095b1",
   "metadata": {},
   "outputs": [],
   "source": [
    "print(summary)"
   ]
  },
  {
   "cell_type": "markdown",
   "id": "1c7c5234",
   "metadata": {},
   "source": [
    "## <font color=\"blue\">&lt;BRUSHED UP ARTICLE&gt;"
   ]
  },
  {
   "cell_type": "code",
   "execution_count": null,
   "id": "e139d81b",
   "metadata": {},
   "outputs": [],
   "source": [
    "print(formatted_article_text)"
   ]
  },
  {
   "cell_type": "code",
   "execution_count": null,
   "id": "0ba03700",
   "metadata": {},
   "outputs": [],
   "source": [
    "talk(formatted_article_text)"
   ]
  },
  {
   "cell_type": "markdown",
   "id": "59878815",
   "metadata": {},
   "source": [
    "### <font color=\"red\">(UNFORMATTED TEXT) - ENTIRE ARTICLE - (Usually Redundant)"
   ]
  },
  {
   "cell_type": "code",
   "execution_count": null,
   "id": "98f579b2",
   "metadata": {},
   "outputs": [],
   "source": [
    "print(article_text)"
   ]
  },
  {
   "cell_type": "code",
   "execution_count": null,
   "id": "45bd4033",
   "metadata": {},
   "outputs": [],
   "source": [
    "talk(article_text)"
   ]
  }
 ],
 "metadata": {
  "kernelspec": {
   "display_name": "Python 3 (ipykernel)",
   "language": "python",
   "name": "python3"
  },
  "language_info": {
   "codemirror_mode": {
    "name": "ipython",
    "version": 3
   },
   "file_extension": ".py",
   "mimetype": "text/x-python",
   "name": "python",
   "nbconvert_exporter": "python",
   "pygments_lexer": "ipython3",
   "version": "3.9.12"
  }
 },
 "nbformat": 4,
 "nbformat_minor": 5
}
