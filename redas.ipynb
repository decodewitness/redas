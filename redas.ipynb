{
 "cells": [
  {
   "cell_type": "markdown",
   "id": "6cd1d704",
   "metadata": {},
   "source": [
    "# REDAS <=> Model (1)\n",
    "\n",
    "Built w/ Python 3.9.12"
   ]
  },
  {
   "cell_type": "code",
   "execution_count": 1,
   "id": "88ac39e7",
   "metadata": {},
   "outputs": [
    {
     "name": "stdout",
     "output_type": "stream",
     "text": [
      "Python 3.9.12\n",
      "\n",
      "REDAS Model (1)\n",
      "\n",
      "Version: v.0.1-1(alpha)\n",
      "Author: vera lo\n"
     ]
    }
   ],
   "source": [
    "# Model(1) -- Version: v.0.1-1(alpha)\n",
    "program = \"REDAS Model (1)\"\n",
    "version = \"v.0.1-1(alpha)\"\n",
    "author = \"vera lo\"\n",
    "!python --version\n",
    "print(\"\\n\" + program + \"\\n\\nVersion: \" + version + \"\\nAuthor: \" + author)"
   ]
  },
  {
   "cell_type": "markdown",
   "id": "c4bb7584",
   "metadata": {},
   "source": [
    "### Libraries"
   ]
  },
  {
   "cell_type": "code",
   "execution_count": 2,
   "id": "9706a79d",
   "metadata": {},
   "outputs": [],
   "source": [
    "# # !pip install SpeechRecognition\n",
    "# !pip install pyttsx3\n",
    "# !pip install PyAudio # if error lower version python <=3.6\n",
    "# !pip install pywhatkit\n",
    "# !pip install wikipedia\n",
    "# # !pip install pyjokes"
   ]
  },
  {
   "cell_type": "code",
   "execution_count": 3,
   "id": "bd8868e8",
   "metadata": {},
   "outputs": [
    {
     "name": "stderr",
     "output_type": "stream",
     "text": [
      "[nltk_data] Downloading package punkt to\n",
      "[nltk_data]     C:\\Users\\vixen\\AppData\\Roaming\\nltk_data...\n",
      "[nltk_data]   Package punkt is already up-to-date!\n"
     ]
    }
   ],
   "source": [
    "import bs4 as bs\n",
    "import urllib.request\n",
    "import re\n",
    "import nltk\n",
    "nltk.download('punkt')\n",
    "import sys\n",
    "import csv "
   ]
  },
  {
   "cell_type": "markdown",
   "id": "8e587b5b",
   "metadata": {},
   "source": [
    "### Scrape Data"
   ]
  },
  {
   "cell_type": "code",
   "execution_count": 4,
   "id": "5b501c22",
   "metadata": {},
   "outputs": [],
   "source": [
    "# https://en.wikipedia.org/wiki/Web3\n",
    "# https://en.wikipedia.org/wiki/Blockchain\n",
    "# https://en.wikipedia.org/wiki/Smart_contract\n",
    "\n",
    "# WEB3\n",
    "# scraped_data = urllib.request.urlopen('https://en.wikipedia.org/wiki/Web3')\n",
    "\n",
    "# BLOCKCHAIN\n",
    "# scraped_data = urllib.request.urlopen('https://en.wikipedia.org/wiki/Blockchain')\n",
    "\n",
    "# SMART CONTRACTS\n",
    "scraped_data = urllib.request.urlopen('https://en.wikipedia.org/wiki/Smart_contract')\n",
    "\n",
    "article = scraped_data.read()\n",
    "parsed_article = bs.BeautifulSoup(article,'lxml')\n",
    "paragraphs = parsed_article.find_all('p')\n",
    "\n",
    "article_text = \"\"\n",
    "for p in paragraphs:\n",
    "    article_text += p.text"
   ]
  },
  {
   "cell_type": "code",
   "execution_count": 5,
   "id": "36330999",
   "metadata": {},
   "outputs": [],
   "source": [
    "# Removing Square Brackets and Extra Spaces\n",
    "article_text = re.sub(r'\\[[0-9]*\\]', ' ', article_text)\n",
    "#any whitespace character \\s+\n",
    "article_text = re.sub(r'\\s+', ' ', article_text)\n",
    "# Removing special characters and digits\n",
    "formatted_article_text = re.sub('[^a-zA-Z]', ' ', article_text)\n",
    "#any whitespace character \\s+\n",
    "formatted_article_text = re.sub(r'\\s+', ' ', formatted_article_text)"
   ]
  },
  {
   "cell_type": "code",
   "execution_count": 6,
   "id": "8dd001aa",
   "metadata": {},
   "outputs": [],
   "source": [
    "#Convert paragraphs to sentences\n",
    "sentence_list = nltk.sent_tokenize(article_text)"
   ]
  },
  {
   "cell_type": "code",
   "execution_count": 7,
   "id": "0b4ba102",
   "metadata": {},
   "outputs": [
    {
     "name": "stderr",
     "output_type": "stream",
     "text": [
      "[nltk_data] Downloading package stopwords to\n",
      "[nltk_data]     C:\\Users\\vixen\\AppData\\Roaming\\nltk_data...\n",
      "[nltk_data]   Package stopwords is already up-to-date!\n"
     ]
    },
    {
     "data": {
      "text/plain": [
       "True"
      ]
     },
     "execution_count": 7,
     "metadata": {},
     "output_type": "execute_result"
    }
   ],
   "source": [
    "nltk.download('stopwords')"
   ]
  },
  {
   "cell_type": "code",
   "execution_count": 8,
   "id": "fe3457a3",
   "metadata": {},
   "outputs": [],
   "source": [
    "stopwords = nltk.corpus.stopwords.words('english')"
   ]
  },
  {
   "cell_type": "code",
   "execution_count": 9,
   "id": "62008163",
   "metadata": {},
   "outputs": [],
   "source": [
    "word_frequencies = {}\n",
    "for word in nltk.word_tokenize(formatted_article_text):\n",
    "    if word not in stopwords:\n",
    "        if word not in word_frequencies.keys():\n",
    "            word_frequencies[word] = 1\n",
    "        else:\n",
    "            word_frequencies[word] += 1"
   ]
  },
  {
   "cell_type": "code",
   "execution_count": 10,
   "id": "9420fea8",
   "metadata": {},
   "outputs": [],
   "source": [
    "maximum_frequncy = max(word_frequencies.values())\n",
    "\n",
    "for word in word_frequencies.keys():\n",
    "    word_frequencies[word] = (word_frequencies[word]/maximum_frequncy)"
   ]
  },
  {
   "cell_type": "code",
   "execution_count": 11,
   "id": "4a751c91",
   "metadata": {},
   "outputs": [],
   "source": [
    "sentence_scores = {}\n",
    "for sent in sentence_list:\n",
    "    for word in nltk.word_tokenize(sent.lower()):\n",
    "        if word in word_frequencies.keys():\n",
    "            if len(sent.split(' ')) < 30:\n",
    "                if sent not in sentence_scores.keys():\n",
    "                    sentence_scores[sent] = word_frequencies[word]\n",
    "                else:\n",
    "                    sentence_scores[sent] += word_frequencies[word]"
   ]
  },
  {
   "cell_type": "code",
   "execution_count": 12,
   "id": "1453ee9f",
   "metadata": {},
   "outputs": [],
   "source": [
    "import heapq"
   ]
  },
  {
   "cell_type": "code",
   "execution_count": 13,
   "id": "0516d16a",
   "metadata": {},
   "outputs": [
    {
     "data": {
      "text/plain": [
       "'Therefore, while every smart legal contract will contain some elements of a smart contract, not every smart contract will be a smart legal contract. Smart contracts should be distinguished from smart legal contracts, where the latter refers to traditional natural-language legally-binding agreements that have selected terms expressed and implemented in machine-readable code. Smart contracts are commonly associated with cryptocurrencies, and the smart contracts introduced by Ethereum are generally considered a fundamental building block for decentralized finance (DeFi) applications.'"
      ]
     },
     "execution_count": 13,
     "metadata": {},
     "output_type": "execute_result"
    }
   ],
   "source": [
    "summary_sentences = heapq.nlargest(3, sentence_scores, key=sentence_scores.get)\n",
    "\n",
    "summary = ' '.join(summary_sentences)\n",
    "summary"
   ]
  },
  {
   "cell_type": "markdown",
   "id": "0343c300",
   "metadata": {},
   "source": [
    "# Adding the final ingredients -> (REDAS)"
   ]
  },
  {
   "cell_type": "code",
   "execution_count": 14,
   "id": "05e924db",
   "metadata": {},
   "outputs": [],
   "source": [
    "# import speech_recognition as sr\n",
    "import pyttsx3\n",
    "import pywhatkit\n",
    "import datetime\n",
    "import wikipedia\n",
    "#import pyjokes"
   ]
  },
  {
   "cell_type": "code",
   "execution_count": 15,
   "id": "648fdf28",
   "metadata": {},
   "outputs": [],
   "source": [
    "#listener = sr.Recognizer()\n",
    "engine = pyttsx3.init()\n",
    "voices = engine.getProperty('voices')\n",
    "engine.setProperty('voice', voices[1].id)"
   ]
  },
  {
   "cell_type": "code",
   "execution_count": 16,
   "id": "f2bed8e3",
   "metadata": {},
   "outputs": [],
   "source": [
    "engine.setProperty('rate', 121)"
   ]
  },
  {
   "cell_type": "code",
   "execution_count": 17,
   "id": "2b8cfda8",
   "metadata": {},
   "outputs": [
    {
     "name": "stdout",
     "output_type": "stream",
     "text": [
      "200\n"
     ]
    }
   ],
   "source": [
    "rate = engine.getProperty('rate')\n",
    "print (rate)"
   ]
  },
  {
   "cell_type": "code",
   "execution_count": 18,
   "id": "83f58294",
   "metadata": {},
   "outputs": [],
   "source": [
    "def talk(text):\n",
    "    engine.say(text)\n",
    "    engine.runAndWait()"
   ]
  },
  {
   "cell_type": "markdown",
   "id": "49323913",
   "metadata": {},
   "source": [
    "### REDAS"
   ]
  },
  {
   "cell_type": "code",
   "execution_count": 19,
   "id": "504233b0",
   "metadata": {},
   "outputs": [],
   "source": [
    "redas = []\n",
    "redas.append(\"REDAS your model 1, your lexicon.\")\n",
    "redas.append(\"Please help support this model, by visiting our website combine research dot com\")\n",
    "\n",
    "for i in redas:\n",
    "    talk(i)"
   ]
  },
  {
   "cell_type": "code",
   "execution_count": 20,
   "id": "c67f37c7",
   "metadata": {},
   "outputs": [
    {
     "name": "stdout",
     "output_type": "stream",
     "text": [
      " A smart contract is a computer program or a transaction protocol that is intended to automatically execute control or document legally relevant events and actions according to the terms of a contract or an agreement The objectives of smart contracts are the reduction of need for trusted intermediators arbitrations costs fraud losses as well as the reduction of malicious and accidental exceptions Smart contracts are commonly associated with cryptocurrencies and the smart contracts introduced by Ethereum are generally considered a fundamental building block for decentralized finance DeFi applications Vending machines are mentioned as the oldest piece of technology equivalent to smart contract implementation The original Ethereum white paper by Vitalik Buterin in describes the Bitcoin protocol as a weak version of the smart contract concept as originally defined by Nick Szabo and proposes a stronger version based on the Solidity language which is Turing complete Since Bitcoin various cryptocurrencies support scripting languages which allow for more advanced smart contracts between untrusted parties Smart contracts should be distinguished from smart legal contracts where the latter refers to traditional natural language legally binding agreements that have selected terms expressed and implemented in machine readable code Smart contracts were first proposed in the early s by Nick Szabo who coined the term using it to refer to a set of promises specified in digital form including protocols within which the parties perform on these promises In the term was used to describe objects in rights management service layer of the system The Stanford Infobus which was a part of Stanford Digital Library Project A smart contract does not necessarily constitute a valid binding agreement at law Some legal academics claim that smart contracts are not legal agreements but rather means of performing obligations deriving from other agreements such as technological means for the automation of payment obligations or obligations consisting in the transfer of tokens or cryptocurrencies Additionally other scholars have argued that the imperative or declarative nature of programming languages can impact the legal validity of smart contracts Since the launch of the Ethereum blockchain the term smart contract has been more specifically applied toward the notion of general purpose computation that takes place on a blockchain or distributed ledger The US National Institute of Standards and Technology describes a smart contract as a collection of code and data sometimes referred to as functions and state that is deployed using cryptographically signed transactions on the blockchain network In this interpretation used for example by the Ethereum Foundation or IBM a smart contract is not necessarily related to the classical concept of a contract but can be any kind of computer program A smart contract also can be regarded as a secured stored procedure as its execution and codified effects like the transfer of some value between parties are strictly enforced and can not be manipulated after a transaction with specific contract details is stored into a blockchain or distributed ledger That s because the actual execution of contracts is controlled and audited by the platform not by any arbitrary server side programs connecting to the platform In by implementing the Decree on Development of Digital Economy Belarus has become the first ever country to legalize smart contracts Belarusian lawyer Denis Aleinikov is considered to be the author of a smart contract legal concept introduced by the decree In a US Senate report said While smart contracts might sound new the concept is rooted in basic contract law Usually the judicial system adjudicates contractual disputes and enforces terms but it is also common to have another arbitration method especially for international transactions With smart contracts a program enforces the contract built into the code A number of states in the US have passed legislation on the use of smart contracts such as Arizona Nevada Tennessee and Wyoming citation needed And in April Iowa s House of Representatives passed a bill legally recognizing smart contracts in the state In April the UK Jurisdiction Taskforce UKJT published the Digital Dispute Resolution Rules the Digital DR Rules to help enable the rapid resolution of blockchain and crypto legal disputes in Britain Similar to a transfer of value on a blockchain deployment of a smart contract on a blockchain occurs by sending a transaction from a wallet for the blockchain The transaction includes the compiled code for the smart contract as well as a special receiver address That transaction must then be included in a block that is added to the blockchain at which point the smart contract s code will execute to establish the initial state of the smart contract Byzantine fault tolerant algorithms secure the smart contract in a decentralized way from attempts to tamper with it Once a smart contract is deployed it cannot be updated Smart contracts on a blockchain can store arbitrary state and execute arbitrary computations End clients interact with a smart contract through transactions Such transactions with a smart contract can invoke other smart contracts These transactions might result in changing the state and sending coins from one smart contract to another or from one account to another The most popular blockchain for running smart contracts is Ethereum On Ethereum smart contracts are typically written in a Turing complete programming language called Solidity and compiled into low level bytecode to be executed by the Ethereum Virtual Machine Due to the halting problem and other security problems Turing completeness is considered to be a risk and is deliberately avoided by languages like Vyper Some of the other smart contract programming languages missing Turing completeness are Simplicity Scilla Ivy and Bitcoin Script However measurements using regular expressions showed that only of Ethereum smart contracts included recursions and loops constructs connected to the halting problem Several languages are designed to enable formal verification Bamboo IELE Simplicity Michelson can be verified with Coq Liquidity compiles to Michelson Scilla DAML and Pact Processes on a blockchain are generally deterministic in order to ensure Byzantine fault tolerance Nevertheless real world application of smart contracts such as lotteries and casinos require secure randomness In fact blockchain technology reduces the costs for conducting of a lottery and is therefore beneficial for the participants Randomness on blockchain can be implemented by using block hashes or timestamps oracles commitment schemes special smart contracts like RANDAO and Quanta as well as sequences from mixed strategy Nash equilibria In Szabo proposed that smart contract infrastructure can be implemented by replicated asset registries and contract execution using cryptographic hash chains and Byzantine fault tolerant replication Askemos implemented this approach in using Scheme later adding SQLite as contract script language One proposal for using bitcoin for replicated asset registration and contract execution is called colored coins Replicated titles for potentially arbitrary forms of property along with replicated contract execution are implemented in different projects As of update UBS was experimenting with smart bonds that use the bitcoin blockchain in which payment streams could hypothetically be fully automated creating a self paying instrument Inheritance wishes could hypothetically be implemented automatically upon registration of a death certificate by means of smart contracts according to whom Birth certificates can also work together with smart contracts Chris Snook of Inc com suggests smart contracts could also be used to handle real estate transactions and could be used in the field of title records and in the public register Seth Oranburg and Liya Palagashvili argue that smart contracts could also be used in employment contracts especially temporary employment contracts which according to them would benefit the employer A blockchain based smart contract is visible to all users of said blockchain However this leads to a situation where bugs including security holes are visible to all yet may not be quickly fixed Such an attack difficult to fix quickly was successfully executed on The DAO in June draining approximately US million worth of Ether at the time while developers attempted to come to a solution that would gain consensus The DAO program had a time delay in place before the hacker could remove the funds a hard fork of the Ethereum software was done to claw back the funds from the attacker before the time limit expired Other high profile attacks include the Parity multisignature wallet attacks and an integer underflow overflow attack totaling over US million Issues in Ethereum smart contracts in particular include ambiguities and easy but insecure constructs in its contract language Solidity compiler bugs Ethereum Virtual Machine bugs attacks on the blockchain network the immutability of bugs and that there is no central source documenting known vulnerabilities attacks and problematic constructs Smart legal contracts are distinct from smart contracts As mentioned above a smart contract is not necessarily legally enforceable as a contract On the other hand a smart legal contract has all the elements of a legally enforceable contract in the jurisdiction in which it can be enforced and it can be enforced by a court or tribunal Therefore while every smart legal contract will contain some elements of a smart contract not every smart contract will be a smart legal contract There is no formal definition of a smart legal contract in the legal industry A Ricardian contract is a type of smart legal contract \n"
     ]
    }
   ],
   "source": [
    "print(formatted_article_text)"
   ]
  },
  {
   "cell_type": "code",
   "execution_count": 21,
   "id": "f7f07fd7",
   "metadata": {},
   "outputs": [],
   "source": [
    "talk(formatted_article_text)"
   ]
  }
 ],
 "metadata": {
  "kernelspec": {
   "display_name": "Python 3 (ipykernel)",
   "language": "python",
   "name": "python3"
  },
  "language_info": {
   "codemirror_mode": {
    "name": "ipython",
    "version": 3
   },
   "file_extension": ".py",
   "mimetype": "text/x-python",
   "name": "python",
   "nbconvert_exporter": "python",
   "pygments_lexer": "ipython3",
   "version": "3.9.12"
  }
 },
 "nbformat": 4,
 "nbformat_minor": 5
}
