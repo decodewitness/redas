{
 "cells": [
  {
   "cell_type": "markdown",
   "id": "6cd1d704",
   "metadata": {},
   "source": [
    "# REDAS <=> Model (1)\n",
    "\n",
    "Built w/ Python 3.9.12"
   ]
  },
  {
   "cell_type": "markdown",
   "id": "f24de508",
   "metadata": {},
   "source": [
    "### <font color=\"green\">Pages To Choose From:"
   ]
  },
  {
   "cell_type": "code",
   "execution_count": null,
   "id": "18f2d173",
   "metadata": {},
   "outputs": [],
   "source": [
    "# wiki_url = 'FIRST GIVE IT A NAME, THEN TYPE EQUALS '=', THEN QUOTE THE \"URL\"'\n",
    "\n",
    "# Your pages:\n",
    "# ----------\n",
    "\n",
    "web3 = 'https://en.wikipedia.org/wiki/Web3'\n",
    "blockchain = 'https://en.wikipedia.org/wiki/Blockchain'\n",
    "smart_contract = 'https://en.wikipedia.org/wiki/Smart_contract'\n",
    "machine_learning = 'https://en.wikipedia.org/wiki/Machine_learning'\n",
    "\n",
    "your_wiki_page1 = '...'\n",
    "your_wiki_page2 = '...'\n",
    "\n",
    "# etc."
   ]
  },
  {
   "cell_type": "markdown",
   "id": "4d01ec59",
   "metadata": {},
   "source": [
    "### <font color=\"blue\">Choose The URL From Your Pages (Here Above)"
   ]
  },
  {
   "cell_type": "code",
   "execution_count": null,
   "id": "5d47f1ed",
   "metadata": {},
   "outputs": [],
   "source": [
    "# The chosen page from -PAGES HERE ABOVE-\n",
    "##########################################\n",
    "\n",
    "# this is your choice on wiki\n",
    "url = smart_contract\n",
    "\n",
    "##########################################"
   ]
  },
  {
   "cell_type": "markdown",
   "id": "a14836cb",
   "metadata": {},
   "source": [
    "### URL could also be any Wikipedia url!\n",
    "#### still it's handier and organised if you keep your pages here above.\n",
    "\n",
    "### e.g.:\n",
    "#### url = 'https://en.wikipedia.org/wiki/Blockchain'\n",
    "\n",
    "#### the script looks for <p> tags in the wiki html to compile the paragraphs."
   ]
  },
  {
   "cell_type": "markdown",
   "id": "d02bd7e1",
   "metadata": {},
   "source": [
    "### Credits"
   ]
  },
  {
   "cell_type": "code",
   "execution_count": null,
   "id": "88ac39e7",
   "metadata": {},
   "outputs": [],
   "source": [
    "# Model(1) -- Version: v.0.1-1(alpha)\n",
    "\n",
    "program = \"REDAS Model (1)\"\n",
    "version = \"v.0.1-2(alpha)\"\n",
    "author = \"vera lo\"\n",
    "\n",
    "print(\"\\n\" + program)\n",
    "print(\"\\n\\nVersion: \" + version + \"\\nAuthor: \" + author)\n",
    "\n",
    "!python --version"
   ]
  },
  {
   "cell_type": "markdown",
   "id": "82abfacd",
   "metadata": {},
   "source": [
    "### Libraries"
   ]
  },
  {
   "cell_type": "code",
   "execution_count": null,
   "id": "9706a79d",
   "metadata": {},
   "outputs": [],
   "source": [
    "# # !pip install SpeechRecognition\n",
    "# !pip install pyttsx3\n",
    "# !pip install PyAudio # if error lower version python <=3.6\n",
    "# !pip install pywhatkit\n",
    "# !pip install wikipedia\n",
    "# # !pip install pyjokes"
   ]
  },
  {
   "cell_type": "code",
   "execution_count": null,
   "id": "bd8868e8",
   "metadata": {},
   "outputs": [],
   "source": [
    "import bs4 as bs\n",
    "import urllib.request\n",
    "import re\n",
    "import nltk\n",
    "nltk.download('punkt')\n",
    "import sys\n",
    "import csv "
   ]
  },
  {
   "cell_type": "markdown",
   "id": "60dd0eaa",
   "metadata": {},
   "source": [
    "### Scrape Data"
   ]
  },
  {
   "cell_type": "code",
   "execution_count": null,
   "id": "5b501c22",
   "metadata": {},
   "outputs": [],
   "source": [
    "# Open URL\n",
    "scraped_data = urllib.request.urlopen(url)\n",
    "\n",
    "article = scraped_data.read()\n",
    "parsed_article = bs.BeautifulSoup(article,'lxml')\n",
    "paragraphs = parsed_article.find_all('p')\n",
    "\n",
    "article_text = \"\"\n",
    "for p in paragraphs:\n",
    "    article_text += p.text"
   ]
  },
  {
   "cell_type": "markdown",
   "id": "ea3bffd7",
   "metadata": {},
   "source": [
    "### Cleaning Datata"
   ]
  },
  {
   "cell_type": "code",
   "execution_count": null,
   "id": "36330999",
   "metadata": {},
   "outputs": [],
   "source": [
    "# Removing Square Brackets and Extra Spaces\n",
    "article_text = re.sub(r'\\[[0-9]*\\]', ' ', article_text)\n",
    "#any whitespace character \\s+\n",
    "article_text = re.sub(r'\\s+', ' ', article_text)\n",
    "# Removing special characters and digits\n",
    "formatted_article_text = re.sub('[^a-zA-Z]', ' ', article_text)\n",
    "#any whitespace character \\s+\n",
    "formatted_article_text = re.sub(r'\\s+', ' ', formatted_article_text)"
   ]
  },
  {
   "cell_type": "markdown",
   "id": "a7e4ff47",
   "metadata": {},
   "source": [
    "### Lexicon"
   ]
  },
  {
   "cell_type": "code",
   "execution_count": null,
   "id": "8dd001aa",
   "metadata": {},
   "outputs": [],
   "source": [
    "#Convert paragraphs to sentences\n",
    "sentence_list = nltk.sent_tokenize(article_text)"
   ]
  },
  {
   "cell_type": "code",
   "execution_count": null,
   "id": "0b4ba102",
   "metadata": {},
   "outputs": [],
   "source": [
    "nltk.download('stopwords')"
   ]
  },
  {
   "cell_type": "code",
   "execution_count": null,
   "id": "fe3457a3",
   "metadata": {},
   "outputs": [],
   "source": [
    "stopwords = nltk.corpus.stopwords.words('english')"
   ]
  },
  {
   "cell_type": "code",
   "execution_count": null,
   "id": "62008163",
   "metadata": {},
   "outputs": [],
   "source": [
    "word_frequencies = {}\n",
    "for word in nltk.word_tokenize(formatted_article_text):\n",
    "    if word not in stopwords:\n",
    "        if word not in word_frequencies.keys():\n",
    "            word_frequencies[word] = 1\n",
    "        else:\n",
    "            word_frequencies[word] += 1"
   ]
  },
  {
   "cell_type": "code",
   "execution_count": null,
   "id": "9420fea8",
   "metadata": {},
   "outputs": [],
   "source": [
    "maximum_frequncy = max(word_frequencies.values())\n",
    "\n",
    "for word in word_frequencies.keys():\n",
    "    word_frequencies[word] = (word_frequencies[word]/maximum_frequncy)"
   ]
  },
  {
   "cell_type": "code",
   "execution_count": null,
   "id": "4a751c91",
   "metadata": {},
   "outputs": [],
   "source": [
    "sentence_scores = {}\n",
    "for sent in sentence_list:\n",
    "    for word in nltk.word_tokenize(sent.lower()):\n",
    "        if word in word_frequencies.keys():\n",
    "            if len(sent.split(' ')) < 30:\n",
    "                if sent not in sentence_scores.keys():\n",
    "                    sentence_scores[sent] = word_frequencies[word]\n",
    "                else:\n",
    "                    sentence_scores[sent] += word_frequencies[word]"
   ]
  },
  {
   "cell_type": "code",
   "execution_count": null,
   "id": "1453ee9f",
   "metadata": {},
   "outputs": [],
   "source": [
    "import heapq"
   ]
  },
  {
   "cell_type": "code",
   "execution_count": null,
   "id": "0516d16a",
   "metadata": {},
   "outputs": [],
   "source": [
    "summary_sentences = heapq.nlargest(3, sentence_scores, key=sentence_scores.get)\n",
    "\n",
    "summary = ' '.join(summary_sentences)"
   ]
  },
  {
   "cell_type": "markdown",
   "id": "0343c300",
   "metadata": {},
   "source": [
    "### Adding the final ingredients"
   ]
  },
  {
   "cell_type": "code",
   "execution_count": null,
   "id": "05e924db",
   "metadata": {},
   "outputs": [],
   "source": [
    "# import speech_recognition as sr\n",
    "import pyttsx3\n",
    "import pywhatkit\n",
    "import datetime\n",
    "import wikipedia\n",
    "#import pyjokes"
   ]
  },
  {
   "cell_type": "code",
   "execution_count": null,
   "id": "648fdf28",
   "metadata": {},
   "outputs": [],
   "source": [
    "#listener = sr.Recognizer()\n",
    "engine = pyttsx3.init()\n",
    "voices = engine.getProperty('voices')\n",
    "engine.setProperty('voice', voices[1].id)"
   ]
  },
  {
   "cell_type": "code",
   "execution_count": null,
   "id": "f2bed8e3",
   "metadata": {},
   "outputs": [],
   "source": [
    "engine.setProperty('rate', 121)"
   ]
  },
  {
   "cell_type": "code",
   "execution_count": null,
   "id": "2b8cfda8",
   "metadata": {},
   "outputs": [],
   "source": [
    "rate = engine.getProperty('rate')\n",
    "print (rate)"
   ]
  },
  {
   "cell_type": "code",
   "execution_count": null,
   "id": "83f58294",
   "metadata": {},
   "outputs": [],
   "source": [
    "def talk(text):\n",
    "    engine.say(text)\n",
    "    engine.runAndWait()"
   ]
  },
  {
   "cell_type": "code",
   "execution_count": null,
   "id": "504233b0",
   "metadata": {},
   "outputs": [],
   "source": [
    "redas = []\n",
    "redas.append(\"REDAS your model 1, your lexicon.\")\n",
    "redas.append(\"Please help support this model, by visiting our website combine research dot com\")\n",
    "\n",
    "for i in redas:\n",
    "    talk(i)"
   ]
  },
  {
   "cell_type": "markdown",
   "id": "21d8c64c",
   "metadata": {},
   "source": [
    "### <font color=\"blue\">REDAS ( Summary )"
   ]
  },
  {
   "cell_type": "code",
   "execution_count": null,
   "id": "c84772d7",
   "metadata": {},
   "outputs": [],
   "source": [
    "summary"
   ]
  },
  {
   "cell_type": "markdown",
   "id": "717f6e26",
   "metadata": {},
   "source": [
    "### <font color=\"blue\">Your Wiki Paragraphs"
   ]
  },
  {
   "cell_type": "code",
   "execution_count": null,
   "id": "7a18ba9e",
   "metadata": {},
   "outputs": [],
   "source": [
    "print(formatted_article_text)"
   ]
  },
  {
   "cell_type": "markdown",
   "id": "37a5d7db",
   "metadata": {},
   "source": [
    "### <font color=\"green\">Teach"
   ]
  },
  {
   "cell_type": "code",
   "execution_count": null,
   "id": "3bc43906",
   "metadata": {},
   "outputs": [],
   "source": [
    "talk(formatted_article_text)"
   ]
  }
 ],
 "metadata": {
  "kernelspec": {
   "display_name": "Python 3 (ipykernel)",
   "language": "python",
   "name": "python3"
  },
  "language_info": {
   "codemirror_mode": {
    "name": "ipython",
    "version": 3
   },
   "file_extension": ".py",
   "mimetype": "text/x-python",
   "name": "python",
   "nbconvert_exporter": "python",
   "pygments_lexer": "ipython3",
   "version": "3.9.12"
  }
 },
 "nbformat": 4,
 "nbformat_minor": 5
}
