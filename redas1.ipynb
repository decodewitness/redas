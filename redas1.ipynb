{
 "cells": [
  {
   "cell_type": "markdown",
   "id": "6cd1d704",
   "metadata": {},
   "source": [
    "# REDAS(1)"
   ]
  },
  {
   "cell_type": "code",
   "execution_count": null,
   "id": "88ac39e7",
   "metadata": {},
   "outputs": [],
   "source": [
    "# Model(1) -- Version: v.0.1-1(alpha)"
   ]
  },
  {
   "cell_type": "code",
   "execution_count": null,
   "id": "bd8868e8",
   "metadata": {},
   "outputs": [],
   "source": [
    "import bs4 as bs\n",
    "import urllib.request\n",
    "import re\n",
    "import nltk\n",
    "nltk.download('punkt')\n",
    "import sys\n",
    "import csv "
   ]
  },
  {
   "cell_type": "code",
   "execution_count": null,
   "id": "5b501c22",
   "metadata": {},
   "outputs": [],
   "source": [
    "# https://en.wikipedia.org/wiki/Web3\n",
    "# https://en.wikipedia.org/wiki/Blockchain\n",
    "# https://en.wikipedia.org/wiki/Smart_contract\n",
    "\n",
    "scraped_data1 = urllib.request.urlopen('https://en.wikipedia.org/wiki/Blockchain')\n",
    "article1 = scraped_data1.read()\n",
    "parsed_article1 = bs.BeautifulSoup(article1,'lxml')\n",
    "paragraphs1 = parsed_article1.find_all('p')\n",
    "\n",
    "article_text1 = \"\"\n",
    "for p in paragraphs1:\n",
    "    article_text1 += p.text"
   ]
  },
  {
   "cell_type": "code",
   "execution_count": null,
   "id": "36330999",
   "metadata": {},
   "outputs": [],
   "source": [
    "# Removing Square Brackets and Extra Spaces\n",
    "article_text1 = re.sub(r'\\[[0-9]*\\]', ' ', article_text1)\n",
    "#any whitespace character \\s+\n",
    "article_text1 = re.sub(r'\\s+', ' ', article_text1)\n",
    "# Removing special characters and digits\n",
    "formatted_article_text1 = re.sub('[^a-zA-Z]', ' ', article_text1 )\n",
    "#any whitespace character \\s+\n",
    "formatted_article_text1 = re.sub(r'\\s+', ' ', formatted_article_text1)"
   ]
  },
  {
   "cell_type": "code",
   "execution_count": null,
   "id": "8dd001aa",
   "metadata": {},
   "outputs": [],
   "source": [
    "#Convert paragraphs to sentences\n",
    "sentence_list1 = nltk.sent_tokenize(article_text1)"
   ]
  },
  {
   "cell_type": "code",
   "execution_count": null,
   "id": "0b4ba102",
   "metadata": {},
   "outputs": [],
   "source": [
    "nltk.download('stopwords')"
   ]
  },
  {
   "cell_type": "code",
   "execution_count": null,
   "id": "fe3457a3",
   "metadata": {},
   "outputs": [],
   "source": [
    "stopwords = nltk.corpus.stopwords.words('english')"
   ]
  },
  {
   "cell_type": "code",
   "execution_count": null,
   "id": "62008163",
   "metadata": {},
   "outputs": [],
   "source": [
    "word_frequencies1 = {}\n",
    "for word in nltk.word_tokenize(formatted_article_text1):\n",
    "    if word not in stopwords:\n",
    "        if word not in word_frequencies1.keys():\n",
    "            word_frequencies1[word] = 1\n",
    "        else:\n",
    "            word_frequencies1[word] += 1"
   ]
  },
  {
   "cell_type": "code",
   "execution_count": null,
   "id": "9420fea8",
   "metadata": {},
   "outputs": [],
   "source": [
    "maximum_frequncy1 = max(word_frequencies1.values())\n",
    "\n",
    "for word in word_frequencies1.keys():\n",
    "    word_frequencies1[word] = (word_frequencies1[word]/maximum_frequncy1)"
   ]
  },
  {
   "cell_type": "code",
   "execution_count": null,
   "id": "4a751c91",
   "metadata": {},
   "outputs": [],
   "source": [
    "sentence_scores1 = {}\n",
    "for sent in sentence_list1:\n",
    "    for word in nltk.word_tokenize(sent.lower()):\n",
    "        if word in word_frequencies1.keys():\n",
    "            if len(sent.split(' ')) < 30:\n",
    "                if sent not in sentence_scores1.keys():\n",
    "                    sentence_scores1[sent] = word_frequencies1[word]\n",
    "                else:\n",
    "                    sentence_scores1[sent] += word_frequencies1[word]"
   ]
  },
  {
   "cell_type": "code",
   "execution_count": null,
   "id": "1453ee9f",
   "metadata": {},
   "outputs": [],
   "source": [
    "import heapq"
   ]
  },
  {
   "cell_type": "code",
   "execution_count": null,
   "id": "0516d16a",
   "metadata": {},
   "outputs": [],
   "source": [
    "summary_sentences1 = heapq.nlargest(3, sentence_scores1, key=sentence_scores1.get)\n",
    "\n",
    "summary1 = ' '.join(summary_sentences1)\n",
    "summary1"
   ]
  },
  {
   "cell_type": "markdown",
   "id": "0343c300",
   "metadata": {},
   "source": [
    "# Adding the final ingredients -> (REDAS)"
   ]
  },
  {
   "cell_type": "code",
   "execution_count": null,
   "id": "a78a8fb6",
   "metadata": {},
   "outputs": [],
   "source": [
    "!python --version"
   ]
  },
  {
   "cell_type": "code",
   "execution_count": null,
   "id": "9706a79d",
   "metadata": {},
   "outputs": [],
   "source": [
    "# # !pip install SpeechRecognition\n",
    "# !pip install pyttsx3\n",
    "# !pip install PyAudio # if error lower version python <=3.6\n",
    "# !pip install pywhatkit\n",
    "# !pip install wikipedia\n",
    "# # !pip install pyjokes"
   ]
  },
  {
   "cell_type": "code",
   "execution_count": null,
   "id": "05e924db",
   "metadata": {},
   "outputs": [],
   "source": [
    "# import speech_recognition as sr\n",
    "import pyttsx3\n",
    "import pywhatkit\n",
    "import datetime\n",
    "import wikipedia\n",
    "#import pyjokes"
   ]
  },
  {
   "cell_type": "code",
   "execution_count": null,
   "id": "648fdf28",
   "metadata": {},
   "outputs": [],
   "source": [
    "#listener = sr.Recognizer()\n",
    "engine = pyttsx3.init()\n",
    "voices = engine.getProperty('voices')\n",
    "engine.setProperty('voice', voices[1].id)"
   ]
  },
  {
   "cell_type": "code",
   "execution_count": null,
   "id": "f2bed8e3",
   "metadata": {},
   "outputs": [],
   "source": [
    "engine.setProperty('rate', 121)"
   ]
  },
  {
   "cell_type": "code",
   "execution_count": null,
   "id": "2b8cfda8",
   "metadata": {},
   "outputs": [],
   "source": [
    "rate = engine.getProperty('rate')\n",
    "print (rate)"
   ]
  },
  {
   "cell_type": "code",
   "execution_count": null,
   "id": "83f58294",
   "metadata": {},
   "outputs": [],
   "source": [
    "def talk(text):\n",
    "    engine.say(text)\n",
    "    engine.runAndWait()"
   ]
  },
  {
   "cell_type": "code",
   "execution_count": null,
   "id": "504233b0",
   "metadata": {},
   "outputs": [],
   "source": [
    "redas = []\n",
    "redas.append(\"REDAS your model, your lexicon.\")\n",
    "redas.append(\"Please help support this model, by visiting our website combine research dot com\")\n",
    "\n",
    "for i in redas:\n",
    "    talk(i)"
   ]
  },
  {
   "cell_type": "code",
   "execution_count": null,
   "id": "f7f07fd7",
   "metadata": {},
   "outputs": [],
   "source": [
    "talk(formatted_article_text1)"
   ]
  }
 ],
 "metadata": {
  "kernelspec": {
   "display_name": "Python 3 (ipykernel)",
   "language": "python",
   "name": "python3"
  },
  "language_info": {
   "codemirror_mode": {
    "name": "ipython",
    "version": 3
   },
   "file_extension": ".py",
   "mimetype": "text/x-python",
   "name": "python",
   "nbconvert_exporter": "python",
   "pygments_lexer": "ipython3",
   "version": "3.9.12"
  }
 },
 "nbformat": 4,
 "nbformat_minor": 5
}
